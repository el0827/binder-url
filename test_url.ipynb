{
 "cells": [
  {
   "cell_type": "code",
   "execution_count": 1,
   "id": "f506310a-140f-4f8d-9795-7e3d9109c76d",
   "metadata": {},
   "outputs": [],
   "source": [
    "from IPython.display import FileLink, HTML, display, Javascript\n",
    "#import pandas as pd\n",
    "# import solara\n",
    "from io import BytesIO\n",
    "import pandas as pd\n",
    "import base64\n",
    "import numpy as np"
   ]
  },
  {
   "cell_type": "code",
   "execution_count": 2,
   "id": "eb836223-2248-4eee-b4ee-4463d8340840",
   "metadata": {},
   "outputs": [],
   "source": [
    "# Assuming df is your DataFrame or data you want to export to Excel\n",
    "data = pd.DataFrame({'Column1': [1, 2, 3], 'Column2': ['A', 'B', 'C']})\n",
    "df = pd.DataFrame(data)\n"
   ]
  },
  {
   "cell_type": "code",
   "execution_count": 3,
   "id": "56eeb503-2812-4be9-99b0-706b9f6ce22e",
   "metadata": {},
   "outputs": [
    {
     "data": {
      "text/html": [
       "<a href=\"data:application/vnd.openxmlformats-officedocument.spreadsheetml.sheet;base64,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\" download=\"downloaded_data.xlsx\">Click here to download</a>"
      ],
      "text/plain": [
       "<IPython.core.display.HTML object>"
      ]
     },
     "metadata": {},
     "output_type": "display_data"
    }
   ],
   "source": [
    "\n",
    "excel_buffer = BytesIO()\n",
    "\n",
    "\n",
    "df.to_excel(excel_buffer, index=False)\n",
    "excel_base64 = base64.b64encode(excel_buffer.getvalue()).decode()\n",
    "\n",
    "\n",
    "download_link = f'<a href=\"data:application/vnd.openxmlformats-officedocument.spreadsheetml.sheet;base64,{excel_base64}\" download=\"downloaded_data.xlsx\">Click here to download</a>'\n",
    "\n",
    "\n",
    "display(HTML(download_link))\n",
    "\n"
   ]
  },
  {
   "cell_type": "code",
   "execution_count": null,
   "id": "0599f276-924e-4d87-8135-6a7cfdf37707",
   "metadata": {},
   "outputs": [],
   "source": []
  }
 ],
 "metadata": {
  "kernelspec": {
   "display_name": "Python 3 (ipykernel)",
   "language": "python",
   "name": "python3"
  },
  "language_info": {
   "codemirror_mode": {
    "name": "ipython",
    "version": 3
   },
   "file_extension": ".py",
   "mimetype": "text/x-python",
   "name": "python",
   "nbconvert_exporter": "python",
   "pygments_lexer": "ipython3",
   "version": "3.9.7"
  }
 },
 "nbformat": 4,
 "nbformat_minor": 5
}
